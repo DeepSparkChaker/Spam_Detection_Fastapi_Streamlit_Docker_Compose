{
 "cells": [
  {
   "cell_type": "markdown",
   "metadata": {},
   "source": [
    "# Use jupyter to test "
   ]
  },
  {
   "cell_type": "code",
   "execution_count": 1,
   "metadata": {},
   "outputs": [
    {
     "data": {
      "text/html": [
       "\n",
       "        <script>\n",
       "            function code_toggle_4992594719104922951() {\n",
       "                $('div.cell.code_cell.rendered.selected').find('div.input').toggle();\n",
       "            }\n",
       "\n",
       "            \n",
       "        </script>\n",
       "\n",
       "        <a href=\"javascript:code_toggle_4992594719104922951()\">Toggle show/hide</a>\n",
       "    "
      ],
      "text/plain": [
       "<IPython.core.display.HTML object>"
      ]
     },
     "execution_count": 1,
     "metadata": {},
     "output_type": "execute_result"
    }
   ],
   "source": [
    "from IPython.display import HTML\n",
    "import random\n",
    "\n",
    "def hide_toggle(for_next=False):\n",
    "    this_cell = \"\"\"$('div.cell.code_cell.rendered.selected')\"\"\"\n",
    "    next_cell = this_cell + '.next()'\n",
    "\n",
    "    toggle_text = 'Toggle show/hide'  # text shown on toggle link\n",
    "    target_cell = this_cell  # target cell to control with toggle\n",
    "    js_hide_current = ''  # bit of JS to permanently hide code in current cell (only when toggling next cell)\n",
    "\n",
    "    if for_next:\n",
    "        target_cell = next_cell\n",
    "        toggle_text += ' next cell'\n",
    "        js_hide_current = this_cell + '.find(\"div.input\").hide();'\n",
    "\n",
    "    js_f_name = 'code_toggle_{}'.format(str(random.randint(1,2**64)))\n",
    "\n",
    "    html = \"\"\"\n",
    "        <script>\n",
    "            function {f_name}() {{\n",
    "                {cell_selector}.find('div.input').toggle();\n",
    "            }}\n",
    "\n",
    "            {js_hide_current}\n",
    "        </script>\n",
    "\n",
    "        <a href=\"javascript:{f_name}()\">{toggle_text}</a>\n",
    "    \"\"\".format(\n",
    "        f_name=js_f_name,\n",
    "        cell_selector=target_cell,\n",
    "        js_hide_current=js_hide_current, \n",
    "        toggle_text=toggle_text)\n",
    "\n",
    "    return HTML(html)\n",
    "hide_toggle()"
   ]
  },
  {
   "cell_type": "code",
   "execution_count": 2,
   "metadata": {},
   "outputs": [
    {
     "name": "stdout",
     "output_type": "stream",
     "text": [
      "Result is 1 + 2\n"
     ]
    },
    {
     "data": {
      "text/html": [
       "\n",
       "        <script>\n",
       "            function code_toggle_7105532683190339636() {\n",
       "                $('div.cell.code_cell.rendered.selected').find('div.input').toggle();\n",
       "            }\n",
       "\n",
       "            \n",
       "        </script>\n",
       "\n",
       "        <a href=\"javascript:code_toggle_7105532683190339636()\">Toggle show/hide</a>\n",
       "    "
      ],
      "text/plain": [
       "<IPython.core.display.HTML object>"
      ]
     },
     "execution_count": 2,
     "metadata": {},
     "output_type": "execute_result"
    }
   ],
   "source": [
    "x = 1\n",
    "y = 2\n",
    "print('Result is {} + {}'.format(x, y))\n",
    "\n",
    "hide_toggle()"
   ]
  },
  {
   "cell_type": "code",
   "execution_count": null,
   "metadata": {},
   "outputs": [],
   "source": [
    "# hide_toggle(for_next=True)"
   ]
  },
  {
   "cell_type": "code",
   "execution_count": 3,
   "metadata": {},
   "outputs": [
    {
     "data": {
      "text/html": [
       "\n",
       "        <script>\n",
       "            function code_toggle_5527004677653210229() {\n",
       "                $('div.cell.code_cell.rendered.selected').next().find('div.input').toggle();\n",
       "            }\n",
       "\n",
       "            $('div.cell.code_cell.rendered.selected').find(\"div.input\").hide();\n",
       "        </script>\n",
       "\n",
       "        <a href=\"javascript:code_toggle_5527004677653210229()\">Toggle show/hide next cell</a>\n",
       "    "
      ],
      "text/plain": [
       "<IPython.core.display.HTML object>"
      ]
     },
     "execution_count": 3,
     "metadata": {},
     "output_type": "execute_result"
    }
   ],
   "source": [
    "hide_toggle(for_next=True)"
   ]
  },
  {
   "cell_type": "code",
   "execution_count": 5,
   "metadata": {},
   "outputs": [
    {
     "data": {
      "application/vnd.jupyter.widget-view+json": {
       "model_id": "3ad5d31cc33646ca8563562a41a4aad7",
       "version_major": 2,
       "version_minor": 0
      },
      "text/plain": [
       "VBox(children=(Label(value='Spam Detection ml models'), Text(value='', description='String:', placeholder='Pas…"
      ]
     },
     "metadata": {},
     "output_type": "display_data"
    }
   ],
   "source": [
    "import requests as r\n",
    "from ipywidgets import Label, BoundedFloatText, BoundedIntText, Dropdown, Button, Output, VBox,widgets\n",
    "\n",
    "\n",
    "\n",
    "prescribe_label = Label('Spam Detection ml models')\n",
    "age_text = widgets.Text(\n",
    "    value='',\n",
    "    placeholder='Paste your  description here!',\n",
    "    description='String:',\n",
    "    disabled=False\n",
    ")\n",
    "prescribe_button = Button(description=\"Presribe\")\n",
    "prescribe_output = Output()\n",
    "\n",
    "# Button click event handlers ...\n",
    "def prescribe_button_on_click(b):\n",
    "    item ={\n",
    "      \"message\": \n",
    "         age_text.value\n",
    "    }\n",
    "    prediction = r.post(\"http://192.168.99.100:8000/predict-spam\",  json=item)\n",
    "    recommended_spam = prediction.json()\n",
    "    prescribe_output.clear_output()\n",
    "    with prescribe_output:\n",
    "\n",
    "        print(f\"The analyse of message is {recommended_spam}\")\n",
    "prescribe_button.on_click(prescribe_button_on_click)\n",
    "vbox_prescribe = VBox([prescribe_label, age_text,prescribe_button, prescribe_output ])\n",
    "vbox_prescribe"
   ]
  },
  {
   "cell_type": "code",
   "execution_count": 12,
   "metadata": {},
   "outputs": [
    {
     "data": {
      "text/plain": [
       "{'label': 'ham', 'spam_probability': 0.0002635646689873969}"
      ]
     },
     "execution_count": 12,
     "metadata": {},
     "output_type": "execute_result"
    }
   ],
   "source": [
    "item ={\n",
    "      \"message\": \n",
    "        'i hate this app a lot '\n",
    "    }\n",
    "prediction = r.post(\"http://192.168.99.100:8000/predict-spam\",  json=item)\n",
    "recommended_spam = prediction.json()\n",
    "recommended_spam"
   ]
  },
  {
   "cell_type": "markdown",
   "metadata": {},
   "source": [
    "# Streamlit : \n"
   ]
  },
  {
   "cell_type": "code",
   "execution_count": 22,
   "metadata": {},
   "outputs": [
    {
     "name": "stdout",
     "output_type": "stream",
     "text": [
      "Overwriting streamlit_spam.py\n"
     ]
    }
   ],
   "source": [
    "%%writefile streamlit_spam.py\n",
    "import streamlit as st\n",
    "import requests as r\n",
    "import seaborn as sns\n",
    "import matplotlib.pyplot as plt\n",
    "st.title('Spam Detection  App')\n",
    "st.write('This applibrary stremlit to predict spam (https://docs.streamlit.io/en/stable/getting_started.html).')\n",
    "st.write(\n",
    "    'To find out how this app was developed, please check out my [Medium post](https://medium.com/@rtkilian/deploy-and-share-your-sentiment-analysis-app-using-streamlit-sharing-2ba3ca6a3ead). To see my source code, have a look at my [GitHub repo](https://github.com/rtkilian/streamlit-huggingface).')\n",
    "st.write('*Note: it will take up to 30 seconds to run the app.*')\n",
    "form = st.form(key='sentiment-form')\n",
    "user_input = form.text_area('Enter your text')\n",
    "submit = form.form_submit_button('Submit')\n",
    "\n",
    "if submit:\n",
    "    fig, ax = plt.subplots()\n",
    "    item ={\n",
    "      \"message\": \n",
    "         user_input\n",
    "    }\n",
    "    prediction = r.post(\"http://192.168.99.100:8000/predict-spam\",  json=item)\n",
    "    recommended_spam = prediction.json()\n",
    "    label=recommended_spam['label']\n",
    "    score=recommended_spam['spam_probability']\n",
    "    if label == 'ham':\n",
    "        st.success(f'This is a {label} : (score: {score})')\n",
    "    else:\n",
    "        st.error(f'OOPS it is a {label} : (score: {score})')\n",
    "        \n",
    "    classes = {0:'ham',1:'spam'}\n",
    "    class_labels = list(classes.values())\n",
    "\n",
    "    st.write(\"The predicted class is \",label)\n",
    "    prob_ham= 1-score\n",
    "    prob_spam = score\n",
    "    probs = [prob_ham,prob_spam]\n",
    "    ax = sns.barplot(probs ,class_labels, palette=\"winter\", orient='h')\n",
    "    ax.set_yticklabels(class_labels,rotation=0)\n",
    "    plt.title(\"Probabilities of the Data belonging to each class\")\n",
    "    for index, value in enumerate(probs):\n",
    "        plt.text(value, index,str(value))\n",
    "    st.pyplot(fig) "
   ]
  },
  {
   "cell_type": "code",
   "execution_count": 23,
   "metadata": {},
   "outputs": [
    {
     "name": "stdout",
     "output_type": "stream",
     "text": [
      "^C\n"
     ]
    }
   ],
   "source": [
    "!streamlit run streamlit_spam.py  "
   ]
  }
 ],
 "metadata": {
  "kernelspec": {
   "display_name": "Python 3",
   "language": "python",
   "name": "python3"
  },
  "language_info": {
   "codemirror_mode": {
    "name": "ipython",
    "version": 3
   },
   "file_extension": ".py",
   "mimetype": "text/x-python",
   "name": "python",
   "nbconvert_exporter": "python",
   "pygments_lexer": "ipython3",
   "version": "3.8.8"
  }
 },
 "nbformat": 4,
 "nbformat_minor": 4
}
